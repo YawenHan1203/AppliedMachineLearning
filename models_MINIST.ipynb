{
 "cells": [
  {
   "cell_type": "markdown",
   "metadata": {
    "colab_type": "text",
    "id": "3NrEHNK9Mzbs"
   },
   "source": [
    "# Task 2\n",
    "Train a multilayer perceptron (fully connected) on the Fashion MNIST dataset using the\n",
    "traditional train/test split as given by fashion_mnist.load_data in keras. Use a separate 10000\n",
    "samples (from the training set) for model selection and to compute learning curves (accuracy\n",
    "vs epochs, not vs n_samples). Compare a “vanilla” model with a model using drop-out\n",
    "(potentially a bigger model), and to a model using batch normalization and residual\n",
    "connections (but not dropout). Visualize learning curves for all models."
   ]
  },
  {
   "cell_type": "code",
   "execution_count": 0,
   "metadata": {
    "colab": {
     "base_uri": "https://localhost:8080/",
     "height": 35
    },
    "colab_type": "code",
    "id": "L7Q4K2tWNSwn",
    "outputId": "0e577656-41da-4810-f43f-96e527990f5c"
   },
   "outputs": [
    {
     "name": "stderr",
     "output_type": "stream",
     "text": [
      "Using TensorFlow backend.\n"
     ]
    }
   ],
   "source": [
    "import keras\n",
    "from keras.datasets import fashion_mnist\n",
    "((X_train, y_train), (X_test, y_test)) = fashion_mnist.load_data()"
   ]
  },
  {
   "cell_type": "code",
   "execution_count": 0,
   "metadata": {
    "colab": {},
    "colab_type": "code",
    "id": "e_-t0ZHkN9Jx"
   },
   "outputs": [],
   "source": [
    "import numpy as np\n",
    "num_classes = len(set(y_train))\n",
    "\n",
    "X_train = X_train.reshape(60000, 784)\n",
    "X_test = X_test.reshape(10000, 784)\n",
    "X_train = X_train.astype('float32')\n",
    "X_test = X_test.astype('float32')\n",
    "X_train /= 255\n",
    "X_test /= 255"
   ]
  },
  {
   "cell_type": "code",
   "execution_count": 0,
   "metadata": {
    "colab": {},
    "colab_type": "code",
    "id": "VTjtXttWOIz-"
   },
   "outputs": [],
   "source": [
    "y_train = keras.utils.to_categorical(y_train, num_classes)\n",
    "y_test = keras.utils.to_categorical(y_test, num_classes)"
   ]
  },
  {
   "cell_type": "markdown",
   "metadata": {
    "colab_type": "text",
    "id": "TT3zkVwkRT1U"
   },
   "source": [
    "## \"Vanilla\" Model"
   ]
  },
  {
   "cell_type": "markdown",
   "metadata": {
    "colab_type": "text",
    "id": "sq0IciYfRWwy"
   },
   "source": [
    "The \"Vanilla\" Model is a sequential model with feed-forward neural networks where one layer follows the other.\n",
    "\n"
   ]
  },
  {
   "cell_type": "code",
   "execution_count": 0,
   "metadata": {
    "colab": {},
    "colab_type": "code",
    "id": "GqDWAq-2O0P0"
   },
   "outputs": [],
   "source": [
    "from keras.models import Sequential\n",
    "from keras.layers import Dense\n",
    "\n",
    "model = Sequential([\n",
    "    Dense(16, input_shape=(784,), activation='relu'),\n",
    "    Dense(16, activation='relu'),\n",
    "    Dense(10, activation='softmax'),\n",
    "])\n",
    "model.compile(\"adam\", \"categorical_crossentropy\",\n",
    "              metrics=['accuracy'])"
   ]
  },
  {
   "cell_type": "code",
   "execution_count": 0,
   "metadata": {
    "colab": {
     "base_uri": "https://localhost:8080/",
     "height": 452
    },
    "colab_type": "code",
    "id": "9HHP_keaQIjW",
    "outputId": "70d9bc6b-e8df-4a13-b653-664b7503e217"
   },
   "outputs": [
    {
     "name": "stdout",
     "output_type": "stream",
     "text": [
      "WARNING:tensorflow:From /usr/local/lib/python3.6/dist-packages/tensorflow/python/ops/math_ops.py:3066: to_int32 (from tensorflow.python.ops.math_ops) is deprecated and will be removed in a future version.\n",
      "Instructions for updating:\n",
      "Use tf.cast instead.\n",
      "Train on 50000 samples, validate on 10000 samples\n",
      "Epoch 1/10\n",
      "50000/50000 [==============================] - 3s 54us/step - loss: 0.9875 - acc: 0.6480 - val_loss: 0.5851 - val_acc: 0.7923\n",
      "Epoch 2/10\n",
      "50000/50000 [==============================] - 1s 29us/step - loss: 0.5283 - acc: 0.8162 - val_loss: 0.5068 - val_acc: 0.8223\n",
      "Epoch 3/10\n",
      "50000/50000 [==============================] - 1s 30us/step - loss: 0.4634 - acc: 0.8397 - val_loss: 0.4672 - val_acc: 0.8363\n",
      "Epoch 4/10\n",
      "50000/50000 [==============================] - 1s 29us/step - loss: 0.4286 - acc: 0.8520 - val_loss: 0.4321 - val_acc: 0.8515\n",
      "Epoch 5/10\n",
      "50000/50000 [==============================] - 1s 29us/step - loss: 0.4075 - acc: 0.8575 - val_loss: 0.4212 - val_acc: 0.8557\n",
      "Epoch 6/10\n",
      "50000/50000 [==============================] - 1s 28us/step - loss: 0.3925 - acc: 0.8644 - val_loss: 0.4088 - val_acc: 0.8585\n",
      "Epoch 7/10\n",
      "50000/50000 [==============================] - 1s 29us/step - loss: 0.3847 - acc: 0.8650 - val_loss: 0.4043 - val_acc: 0.8616\n",
      "Epoch 8/10\n",
      "50000/50000 [==============================] - 1s 29us/step - loss: 0.3754 - acc: 0.8688 - val_loss: 0.4039 - val_acc: 0.8600\n",
      "Epoch 9/10\n",
      "50000/50000 [==============================] - 1s 29us/step - loss: 0.3680 - acc: 0.8716 - val_loss: 0.3975 - val_acc: 0.8625\n",
      "Epoch 10/10\n",
      "50000/50000 [==============================] - 1s 29us/step - loss: 0.3620 - acc: 0.8747 - val_loss: 0.3916 - val_acc: 0.8657\n"
     ]
    }
   ],
   "source": [
    "history_callback = model.fit(X_train, y_train, batch_size=128,\n",
    "                             epochs=10, verbose=1, validation_split=1/6)\n"
   ]
  },
  {
   "cell_type": "code",
   "execution_count": 0,
   "metadata": {
    "colab": {
     "base_uri": "https://localhost:8080/",
     "height": 295
    },
    "colab_type": "code",
    "id": "el7DJt_hQ3G4",
    "outputId": "c608aa32-571c-42c7-c06c-0bc9c780106e"
   },
   "outputs": [
    {
     "data": {
      "image/png": "[encoded data removed]",
      "text/plain": [
       "<Figure size 432x288 with 1 Axes>"
      ]
     },
     "metadata": {
      "tags": []
     },
     "output_type": "display_data"
    }
   ],
   "source": [
    "import pandas as pd\n",
    "import matplotlib.pyplot as plt\n",
    "\n",
    "pd.DataFrame(history_callback.history)[['val_acc','acc']].plot()\n",
    "plt.ylabel(\"accuracy\")\n",
    "plt.xlabel(\"epochs\")\n",
    "plt.xticks(np.arange(0, 10, step=2))\n",
    "_ = plt.title(\"'Vanilla'Model Learning Curve\")"
   ]
  },
  {
   "cell_type": "markdown",
   "metadata": {
    "colab_type": "text",
    "id": "09kBrVAZRlX2"
   },
   "source": [
    "Here we have a neural net sequential model with 16 hidden units for the mnist dataset with 10 outputs. The hidden layer nonlinearity is relu, the output if softmax for multi-class classification.\n",
    "\n",
    "\n",
    "According to the Learning Curve shown above, the \"vanilla\" model achieves the 86% validation accuracy after 10 epochs trainig. As the number of epochs increases, the training accuracy is keep increasing, while the validation accuracy is increasing at first and be stable at 85% later; the curve goes from underfitting to optimal to a little overfitting."
   ]
  },
  {
   "cell_type": "markdown",
   "metadata": {
    "colab_type": "text",
    "id": "dS0HwjIiR83t"
   },
   "source": [
    "## Model with Drop-out"
   ]
  },
  {
   "cell_type": "markdown",
   "metadata": {
    "colab_type": "text",
    "id": "Hgmd3m35R_HX"
   },
   "source": [
    "The \"Drop-out\" Model will randomly  ignore neurons during the training randomly. It forces a neural network to learn more robust features that are useful in conjunction with many different random subsets of the other neurons."
   ]
  },
  {
   "cell_type": "code",
   "execution_count": 0,
   "metadata": {
    "colab": {
     "base_uri": "https://localhost:8080/",
     "height": 380
    },
    "colab_type": "code",
    "id": "J1SmHEXiSK48",
    "outputId": "bf337ab0-4646-420a-e0a5-61e19f22715a"
   },
   "outputs": [
    {
     "name": "stdout",
     "output_type": "stream",
     "text": [
      "Train on 50000 samples, validate on 10000 samples\n",
      "Epoch 1/10\n",
      "50000/50000 [==============================] - 2s 42us/step - loss: 1.3826 - acc: 0.4872 - val_loss: 0.7219 - val_acc: 0.7746\n",
      "Epoch 2/10\n",
      "50000/50000 [==============================] - 2s 32us/step - loss: 0.9667 - acc: 0.6352 - val_loss: 0.5850 - val_acc: 0.7904\n",
      "Epoch 3/10\n",
      "50000/50000 [==============================] - 2s 32us/step - loss: 0.8516 - acc: 0.6799 - val_loss: 0.5300 - val_acc: 0.8155\n",
      "Epoch 4/10\n",
      "50000/50000 [==============================] - 2s 31us/step - loss: 0.7938 - acc: 0.7068 - val_loss: 0.5255 - val_acc: 0.8235\n",
      "Epoch 5/10\n",
      "50000/50000 [==============================] - 2s 32us/step - loss: 0.7608 - acc: 0.7195 - val_loss: 0.4985 - val_acc: 0.8325\n",
      "Epoch 6/10\n",
      "50000/50000 [==============================] - 2s 32us/step - loss: 0.7451 - acc: 0.7259 - val_loss: 0.4819 - val_acc: 0.8319\n",
      "Epoch 7/10\n",
      "50000/50000 [==============================] - 2s 32us/step - loss: 0.7303 - acc: 0.7308 - val_loss: 0.4841 - val_acc: 0.8365\n",
      "Epoch 8/10\n",
      "50000/50000 [==============================] - 2s 31us/step - loss: 0.7219 - acc: 0.7324 - val_loss: 0.4640 - val_acc: 0.8395\n",
      "Epoch 9/10\n",
      "50000/50000 [==============================] - 2s 31us/step - loss: 0.7063 - acc: 0.7391 - val_loss: 0.4688 - val_acc: 0.8364\n",
      "Epoch 10/10\n",
      "50000/50000 [==============================] - 2s 31us/step - loss: 0.7025 - acc: 0.7388 - val_loss: 0.4660 - val_acc: 0.8388\n"
     ]
    }
   ],
   "source": [
    "from keras.layers import Dropout\n",
    "model_dropout = Sequential([\n",
    "    Dense(16, input_shape=(784,), activation='relu'),\n",
    "    Dense(16, activation='relu'),\n",
    "    Dropout(.5),\n",
    "    #Dense(256, activation='relu'),\n",
    "    #Dropout(.5),\n",
    "    Dense(10, activation='softmax'),\n",
    "])\n",
    "model_dropout.compile(\"adam\", \"categorical_crossentropy\", metrics=['accuracy'])\n",
    "history_dropout = model_dropout.fit(X_train, y_train, batch_size=128,\n",
    "                            epochs=10, verbose=1, validation_split=1/6)"
   ]
  },
  {
   "cell_type": "code",
   "execution_count": 0,
   "metadata": {
    "colab": {
     "base_uri": "https://localhost:8080/",
     "height": 295
    },
    "colab_type": "code",
    "id": "ufbNPjVsV4Pv",
    "outputId": "fd4b5e56-c502-474b-e00b-c1d8a9c999f8"
   },
   "outputs": [
    {
     "data": {
      "image/png": "[encoded data removed]",
      "text/plain": [
       "<Figure size 432x288 with 1 Axes>"
      ]
     },
     "metadata": {
      "tags": []
     },
     "output_type": "display_data"
    }
   ],
   "source": [
    "pd.DataFrame(history_dropout.history)[['val_acc','acc']].plot()\n",
    "plt.ylabel(\"accuracy\")\n",
    "plt.xlabel(\"epochs\")\n",
    "plt.xticks(np.arange(0, 10, step=2))\n",
    "_ = plt.title(\"Drop-out added Model Learning Curve\")"
   ]
  },
  {
   "cell_type": "markdown",
   "metadata": {
    "colab_type": "text",
    "id": "LGF6UeRbSdmm"
   },
   "source": [
    "On the Drop-out Model above, 50% neurons are randomly ignored during the training phase , which is a regularization method used to reduce overfitting and improve generalization error in the model. It helps by training a large number of neural networks with different architectures in parallel.  \n",
    "\n",
    "\n",
    "Compared to the \"Vanilla\" Model performance, the traning accuarcy and validation accuray is not as good as the one without drop-out after 10 epochs trainig. This indicates that the \"Drop-out\" method effectively reduce the overfitting problem observed in the \"Vanilla\" Model. Condiering the validation accuacy of the drop-out model, it has lower accuarcy than \"Vanilla\" model after 10 epochs, which possibly as a result of the small size of neutrons. As this model only has 16 neutrons in the hidden layer, ignoring half of the neutrons leads to the underfitting problem. \n",
    "\n",
    "In conclusion, the drop-out method  helps to decrease the generalization error by avoid learning the noise in the training data, contributing to aovid overfitting."
   ]
  },
  {
   "cell_type": "markdown",
   "metadata": {
    "colab_type": "text",
    "id": "O3lENtxDUEJP"
   },
   "source": [
    "## Model with Batch Normalization and Residual Connections"
   ]
  },
  {
   "cell_type": "markdown",
   "metadata": {
    "colab_type": "text",
    "id": "ImUpS0qsUHZF"
   },
   "source": [
    "The \"Resnet\" Model is performed by add the original input to the output of the convolution block, which is called skip connection. Before each activation stage, we normalize the input layer by adjusting and scaling the activations to reduce the amount by what the hidden unit values shift around (covariance shift)."
   ]
  },
  {
   "cell_type": "code",
   "execution_count": 0,
   "metadata": {
    "colab": {
     "base_uri": "https://localhost:8080/",
     "height": 380
    },
    "colab_type": "code",
    "id": "52M8R5mLXS-4",
    "outputId": "eb746e93-22b8-46e3-b525-76b5abca0ae4"
   },
   "outputs": [
    {
     "name": "stdout",
     "output_type": "stream",
     "text": [
      "Train on 50000 samples, validate on 10000 samples\n",
      "Epoch 1/10\n",
      "50000/50000 [==============================] - 3s 58us/step - loss: 0.8325 - acc: 0.7352 - val_loss: 0.5302 - val_acc: 0.8186\n",
      "Epoch 2/10\n",
      "50000/50000 [==============================] - 2s 45us/step - loss: 0.4785 - acc: 0.8350 - val_loss: 0.4477 - val_acc: 0.8419\n",
      "Epoch 3/10\n",
      "50000/50000 [==============================] - 2s 45us/step - loss: 0.4236 - acc: 0.8509 - val_loss: 0.4232 - val_acc: 0.8476\n",
      "Epoch 4/10\n",
      "50000/50000 [==============================] - 2s 45us/step - loss: 0.3954 - acc: 0.8598 - val_loss: 0.4177 - val_acc: 0.8449\n",
      "Epoch 5/10\n",
      "50000/50000 [==============================] - 2s 43us/step - loss: 0.3801 - acc: 0.8637 - val_loss: 0.3923 - val_acc: 0.8576\n",
      "Epoch 6/10\n",
      "50000/50000 [==============================] - 2s 39us/step - loss: 0.3645 - acc: 0.8694 - val_loss: 0.4058 - val_acc: 0.8523\n",
      "Epoch 7/10\n",
      "50000/50000 [==============================] - 2s 39us/step - loss: 0.3579 - acc: 0.8710 - val_loss: 0.3814 - val_acc: 0.8634\n",
      "Epoch 8/10\n",
      "50000/50000 [==============================] - 2s 40us/step - loss: 0.3481 - acc: 0.8747 - val_loss: 0.3780 - val_acc: 0.8648\n",
      "Epoch 9/10\n",
      "50000/50000 [==============================] - 2s 39us/step - loss: 0.3427 - acc: 0.8753 - val_loss: 0.3672 - val_acc: 0.8674\n",
      "Epoch 10/10\n",
      "50000/50000 [==============================] - 2s 40us/step - loss: 0.3347 - acc: 0.8797 - val_loss: 0.3821 - val_acc: 0.8623\n"
     ]
    }
   ],
   "source": [
    "from keras.layers import Input, Dense, add, Activation\n",
    "from keras.models import Model\n",
    "from keras.layers import BatchNormalization\n",
    "\n",
    "inputs = Input(shape=(784,))\n",
    "\n",
    "x1 = Dense(16, activation='relu')(inputs)\n",
    "x2 = Dense(16)(x1)\n",
    "x3 = BatchNormalization(momentum=0.5)(x2)\n",
    "x4 = Activation(\"relu\")(x3)\n",
    "#x2 = BatchNormalization(momentum=0.5)(x1)\n",
    "#skip1 = add([x1, x2])\n",
    "#x2 = Dense(32, activation='relu')(x1)\n",
    "#x4 = Dense(16, activation='relu')(x3)\n",
    "#x = BatchNormalization()(x)\n",
    "#x = Dense(8, activation='relu')(x)\n",
    "skip = add([x1, x4])\n",
    "#x4 = BatchNormalization(momentum=0.5)(skip)\n",
    "#skip2 = add([x1, x3, x4])\n",
    "predictions = Dense(10, activation='softmax')(skip)\n",
    "\n",
    "model = Model(inputs=inputs, outputs=predictions)\n",
    "model.compile(optimizer='adam',\n",
    "              loss='categorical_crossentropy',\n",
    "              metrics=['accuracy'])\n",
    "history_bnre = model.fit(X_train, y_train, batch_size=128,\n",
    "                            epochs=10, verbose=1, validation_split=1/6)"
   ]
  },
  {
   "cell_type": "code",
   "execution_count": 0,
   "metadata": {
    "colab": {
     "base_uri": "https://localhost:8080/",
     "height": 295
    },
    "colab_type": "code",
    "id": "CQEJX9sPXwZ_",
    "outputId": "9271ebdd-b177-4e56-d667-ca010d97f185"
   },
   "outputs": [
    {
     "data": {
      "image/png": "[encoded data removed]",
      "text/plain": [
       "<Figure size 432x288 with 1 Axes>"
      ]
     },
     "metadata": {
      "tags": []
     },
     "output_type": "display_data"
    }
   ],
   "source": [
    "pd.DataFrame(history_bnre.history)[['val_acc','acc']].plot()\n",
    "plt.ylabel(\"accuracy\")\n",
    "plt.xlabel(\"epochs\")\n",
    "plt.xticks(np.arange(0, 10, step=2))\n",
    "_ = plt.title(\"ResNets with BatchNormalization Learning Curve\")"
   ]
  },
  {
   "cell_type": "markdown",
   "metadata": {
    "colab_type": "text",
    "id": "1BCQujiAUW77"
   },
   "source": [
    "In ResNets, a \"skip connection\" allows the gradient to be directly backpropagated to earlier layers; They are used to allow gradients to flow through a network directly, without passing through non-linear activation functions. Also, batch normalization allows each layer of a network to learn by itself a little bit more independently of other layers.\n",
    "\n",
    "\n",
    "According to the Learning Curve above, the ResNets model has the similar performance as the \"Vanilla\" model, but learns faster. This is because skipping effectively simplifies the network, which speeds learning by reducing the impact of vanishing gradients, as there are fewer layers to propagate through. But the layers in the network above is not deep enough to significant the advantage of preventing vanishing gradient problem."
   ]
  }
 ],
 "metadata": {
  "accelerator": "GPU",
  "colab": {
   "collapsed_sections": [],
   "name": "hw5t2_4/30.ipynb",
   "provenance": [],
   "version": "0.3.2"
  },
  "kernelspec": {
   "display_name": "Python 3",
   "language": "python",
   "name": "python3"
  },
  "language_info": {
   "codemirror_mode": {
    "name": "ipython",
    "version": 3
   },
   "file_extension": ".py",
   "mimetype": "text/x-python",
   "name": "python",
   "nbconvert_exporter": "python",
   "pygments_lexer": "ipython3",
   "version": "3.6.8"
  }
 },
 "nbformat": 4,
 "nbformat_minor": 1
}
